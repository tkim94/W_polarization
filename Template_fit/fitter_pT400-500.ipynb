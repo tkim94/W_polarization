{
 "cells": [
  {
   "cell_type": "code",
   "execution_count": 40,
   "metadata": {},
   "outputs": [],
   "source": [
    "import numpy as np\n",
    "import matplotlib.pyplot as plt\n",
    "\n",
    "x_axis = np.load(\"bin_mids.npy\")\n",
    "wL = np.load(\"WL_sig_hist.npy\")\n",
    "wT = np.load(\"WL_bkg_hist.npy\")"
   ]
  },
  {
   "cell_type": "markdown",
   "metadata": {},
   "source": [
    "# pT 400 - 500"
   ]
  },
  {
   "cell_type": "code",
   "execution_count": 41,
   "metadata": {},
   "outputs": [
    {
     "data": {
      "text/plain": [
       "array([0.01, 0.03, 0.05, 0.07, 0.09, 0.11, 0.13, 0.15, 0.17, 0.19, 0.21,\n",
       "       0.23, 0.25, 0.27, 0.29, 0.31, 0.33, 0.35, 0.37, 0.39, 0.41, 0.43,\n",
       "       0.45, 0.47, 0.49, 0.51, 0.53, 0.55, 0.57, 0.59, 0.61, 0.63, 0.65,\n",
       "       0.67, 0.69, 0.71, 0.73, 0.75, 0.77, 0.79, 0.81, 0.83, 0.85, 0.87,\n",
       "       0.89, 0.91, 0.93, 0.95, 0.97, 0.99])"
      ]
     },
     "execution_count": 41,
     "metadata": {},
     "output_type": "execute_result"
    }
   ],
   "source": [
    "x_axis"
   ]
  },
  {
   "cell_type": "code",
   "execution_count": 42,
   "metadata": {},
   "outputs": [
    {
     "name": "stdout",
     "output_type": "stream",
     "text": [
      "Sum of wL : 118149\n",
      "Sum of wT : 118369\n"
     ]
    }
   ],
   "source": [
    "print('Sum of wL : '+str(np.sum(wL)))\n",
    "print('Sum of wT : '+str(np.sum(wT)))"
   ]
  },
  {
   "cell_type": "markdown",
   "metadata": {},
   "source": [
    "## Definitions"
   ]
  },
  {
   "cell_type": "code",
   "execution_count": 46,
   "metadata": {},
   "outputs": [],
   "source": [
    "from scipy import optimize\n",
    "from numpy import exp, loadtxt, pi, sqrt\n",
    "from scipy.integrate import quad\n",
    "\n",
    "def gaussian(x, amp1, cen1, wid1, amp2, cen2, wid2):\n",
    "    \"\"\"1-d gaussian: gaussian(x, amp, cen, wid)\"\"\"\n",
    "    return ((amp1/(sqrt(2*pi) * wid1)) * exp(-(x-cen1)**2/(2*wid1**2))+ \n",
    "            (amp2/(sqrt(2*pi) * wid2)) * exp(-(x-cen2)**2/(2*wid2**2)))\n",
    "\n",
    "def background(x, amp1, cen1, wid1, amp2, cen2, wid2, amp3, cen3, wid3):\n",
    "    return  ((amp1/(sqrt(2*pi) * wid1)) * exp(-(x-cen1)**2 / (2*wid1**2)) + \n",
    "             (amp2/(sqrt(2*pi) * wid2)) * exp(-(x-cen2)**2 / (2*wid2**2)) + \n",
    "             (amp3/(sqrt(2*pi) * wid3)) * exp(-(x-cen3)**2 / (2*wid3**2)))\n",
    "\n",
    "def sig_func(x):\n",
    "    return gaussian(x, params_WL[0], params_WL[1], params_WL[2], params_WL[3], params_WL[4], params_WL[5])\n",
    "\n",
    "def bkg_func(x):\n",
    "    return background(x, params_WT[0], params_WT[1], \n",
    "                           params_WT[2], params_WT[3], params_WT[4],\n",
    "                           params_WT[5], params_WT[6], params_WT[7],\n",
    "                           params_WT[8])\n",
    "\n",
    "def fittot(x, amp1, amp2):\n",
    "    return (amp1*(sig_func(x))+\n",
    "            amp2*(bkg_func(x)))\n",
    "\n",
    "def num_sig(amp): # Longitudinal W\n",
    "    ans = 0\n",
    "    for i in range(len(x_axis)):\n",
    "        ans = ans + sig_func(x_axis[i])\n",
    "    return ans*amp\n",
    "    \n",
    "def num_bkg(amp): # Transverse W\n",
    "    ans = 0\n",
    "    for i in range(len(x_axis)):\n",
    "        ans = ans + bkg_func(x_axis[i])\n",
    "    return ans*amp\n",
    "    \n",
    "def L_T_ratio(numL,numT):\n",
    "    rat = numL/(numT+numL)\n",
    "    return rat"
   ]
  },
  {
   "cell_type": "markdown",
   "metadata": {},
   "source": [
    "## Longitudinal (Signal)"
   ]
  },
  {
   "cell_type": "code",
   "execution_count": 62,
   "metadata": {},
   "outputs": [
    {
     "name": "stdout",
     "output_type": "stream",
     "text": [
      "[1.94566380e+03 5.56374808e-01 1.44731847e-01 4.21945841e+02\n",
      " 6.26429756e-01 2.20061861e-02]\n",
      "Number estimated from fit : 118269.70730007411, difference : -120.70730007410748\n"
     ]
    }
   ],
   "source": [
    "\n",
    "init_vals = [3000, 0.5, 0.3, 10000, 0.6, 0.02]\n",
    "\n",
    "params_WL, params_covariance_WL = optimize.curve_fit(gaussian, x_axis, wL,\n",
    "                                               p0=init_vals)\n",
    "\n",
    "#def test_func(x, x0, x1, a, b, c, d):\n",
    "#    return a * math.exp(-b * (x-x0)**2)+ c * math.exp(-d * (x-x1)**2)\n",
    "\n",
    "#params, params_covariance = optimize.curve_fit(test_func, x_axis, wL, \n",
    "#                                               p0=[0.5, 0.6, 4000, 0.2, 12000, 0.05])\n",
    "\n",
    "print(params_WL)\n",
    "print(\"Number estimated from fit : \"+str(num_sig(1))+\", difference : \"+str(np.sum(wL)-num_sig(1)))"
   ]
  },
  {
   "cell_type": "code",
   "execution_count": 48,
   "metadata": {},
   "outputs": [
    {
     "data": {
      "image/png": "[encoded data removed]",
      "text/plain": [
       "<Figure size 432x288 with 1 Axes>"
      ]
     },
     "metadata": {
      "needs_background": "light"
     },
     "output_type": "display_data"
    }
   ],
   "source": [
    "plt.scatter(x_axis, wL,label='data')\n",
    "plt.plot(x_axis, gaussian(x_axis, params_WL[0], params_WL[1], \n",
    "                          params_WL[2], params_WL[3], params_WL[4], params_WL[5]),\n",
    "         label='Fitted function')\n",
    "plt.show()"
   ]
  },
  {
   "cell_type": "markdown",
   "metadata": {},
   "source": [
    "## Transverse (Background) "
   ]
  },
  {
   "cell_type": "code",
   "execution_count": 61,
   "metadata": {},
   "outputs": [
    {
     "name": "stdout",
     "output_type": "stream",
     "text": [
      "[2.47726147e+02 1.80887730e-01 4.29673997e-02 2.01062471e+03\n",
      " 4.64707996e-01 1.56942631e-01 3.30058404e+02 6.19304892e-01\n",
      " 5.24934741e-03]\n",
      "Number estimated from fit : 121093.02454270134, difference : -2724.0245427013433\n"
     ]
    }
   ],
   "source": [
    "init_vals = [2000, 0.2, 0.01, 3000, 0.4, 0.02, 5000, 0.6, 0.02]\n",
    "#init_vals = [3000, 0.2, 0.01, 4000, 0.6, 0.02, 4000, 0.6, 0.02, 4000, 0.6, 0.02]\n",
    "#init_vals = [ 9000, 0.6, 0.02]\n",
    "\n",
    "params_WT, params_covariance_WT = optimize.curve_fit(background, x_axis, wT,\n",
    "                                               p0=init_vals)\n",
    "\n",
    "\n",
    "print(params_WT)\n",
    "print(\"Number estimated from fit : \"+str(num_bkg(1))+\", difference : \"+str(np.sum(wT)-num_bkg(1)))"
   ]
  },
  {
   "cell_type": "code",
   "execution_count": 50,
   "metadata": {},
   "outputs": [
    {
     "data": {
      "image/png": "[encoded data removed]",
      "text/plain": [
       "<Figure size 432x288 with 1 Axes>"
      ]
     },
     "metadata": {
      "needs_background": "light"
     },
     "output_type": "display_data"
    }
   ],
   "source": [
    "plt.scatter(x_axis, wT)\n",
    "\n",
    "plt.plot(x_axis, background(x_axis, params_WT[0], params_WT[1], \n",
    "                           params_WT[2], params_WT[3], params_WT[4],\n",
    "                           params_WT[5], params_WT[6], params_WT[7],\n",
    "                           params_WT[8]),\n",
    "         label='Fitted function')\n",
    "plt.show()"
   ]
  },
  {
   "cell_type": "markdown",
   "metadata": {},
   "source": [
    "# WZ Testing"
   ]
  },
  {
   "cell_type": "code",
   "execution_count": 51,
   "metadata": {},
   "outputs": [],
   "source": [
    "wz = np.load(\"WZ_sig_hist.npy\")\n"
   ]
  },
  {
   "cell_type": "code",
   "execution_count": 52,
   "metadata": {},
   "outputs": [
    {
     "name": "stdout",
     "output_type": "stream",
     "text": [
      "[0.06026028 0.11330313]\n"
     ]
    }
   ],
   "source": [
    "init_vals = [0.06, 0.11]\n",
    "\n",
    "params_WZ, params_covariance_WZ = optimize.curve_fit(fittot, x_axis, wz,\n",
    "                                               p0=init_vals)\n",
    "print(params_WZ)"
   ]
  },
  {
   "cell_type": "code",
   "execution_count": 53,
   "metadata": {},
   "outputs": [
    {
     "data": {
      "image/png": "[encoded data removed]",
      "text/plain": [
       "<Figure size 432x288 with 1 Axes>"
      ]
     },
     "metadata": {
      "needs_background": "light"
     },
     "output_type": "display_data"
    }
   ],
   "source": [
    "plt.scatter(x_axis, wz,label='data',color='grey')\n",
    "plt.plot(x_axis, fittot(x_axis, params_WZ[0], params_WZ[1]),\n",
    "         label='Fitted function')\n",
    "plt.plot(x_axis, params_WZ[0]*sig_func(x_axis),\n",
    "         label='WL')\n",
    "plt.plot(x_axis, params_WZ[1]*bkg_func(x_axis),\n",
    "         label='WT')\n",
    "plt.legend()\n",
    "plt.show()"
   ]
  },
  {
   "cell_type": "code",
   "execution_count": 54,
   "metadata": {},
   "outputs": [
    {
     "name": "stdout",
     "output_type": "stream",
     "text": [
      "7126.9660744846005\n",
      "13720.218196323836\n",
      "0.3418670829549022\n"
     ]
    }
   ],
   "source": [
    "longi_val = num_sig(params_WZ[0])\n",
    "trans_val = num_bkg(params_WZ[1])\n",
    "ltrat = L_T_ratio(longi_val,trans_val)\n",
    "\n",
    "print(longi_val) #Something wrong too low values\n",
    "print(trans_val)\n",
    "print(ltrat)"
   ]
  },
  {
   "cell_type": "code",
   "execution_count": null,
   "metadata": {},
   "outputs": [],
   "source": []
  }
 ],
 "metadata": {
  "kernelspec": {
   "display_name": "Python 2",
   "language": "python",
   "name": "python2"
  },
  "language_info": {
   "codemirror_mode": {
    "name": "ipython",
    "version": 2
   },
   "file_extension": ".py",
   "mimetype": "text/x-python",
   "name": "python",
   "nbconvert_exporter": "python",
   "pygments_lexer": "ipython2",
   "version": "2.7.16"
  }
 },
 "nbformat": 4,
 "nbformat_minor": 2
}
